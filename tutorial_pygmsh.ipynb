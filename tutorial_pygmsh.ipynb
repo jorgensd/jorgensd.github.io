{
 "cells": [
  {
   "cell_type": "markdown",
   "metadata": {},
   "source": [
    "# PYGMSH with DOLFIN and DOLFIN-X"
   ]
  },
  {
   "cell_type": "markdown",
   "metadata": {},
   "source": [
    "In this tutorial, you will learn:\n",
    "1. How to create a mesh with mesh markers in pygmsh\n",
    "2. How to create 3D meshes with pygmsh (For now see this [discourse reply](https://fenicsproject.discourse.group/t/pygmsh-tutorial/2506/8?u=dokken)\n",
    "3. How to create an XDMF-file than can be imported in either dolfin or dolfinx\n",
    "4. How to load existing \"msh\"-files into dolfin and dolfinx\n",
    "\n",
    "Prerequisites for this tutorial is to install pygmsh[>=6.1.1](https://pypi.org/project/pygmsh/6.1.1/), meshio[>=4.1.1](https://pypi.org/project/meshio/4.1.1/) and gmsh[>=4.6.0](https://gmsh.info/bin/Linux/gmsh-4.6.0-Linux64.tgz). All of these dependencies can be found in the docker image\n",
    "`dolfinx/dev-env`, which can be ran on any computer with docker using\n",
    "```bash\n",
    "docker run -ti -v $(pwd):/home/shared -w /home/shared --rm dolfinx/dev-env\n",
    "```\n",
    "## 1. How to create a mesh with pygmsh\n",
    "In this tutorial, we will learn how to create a channel with a circular obstacle, as used in the [DFG-2D 2 Turek benchmark](http://www.featflow.de/en/benchmarks/cfdbenchmarking/flow/dfg_benchmark2_re100.html).\n",
    "\n",
    "To do this, we use pygmsh.\n",
    "First we create an empty geometry and the circular obstacle:"
   ]
  },
  {
   "cell_type": "code",
   "execution_count": 11,
   "metadata": {},
   "outputs": [],
   "source": [
    "from pygmsh.built_in.geometry import Geometry\n",
    "resolution = 0.01\n",
    "\n",
    "# Channel parameters\n",
    "L = 2.2\n",
    "H = 0.41\n",
    "c = [0.2, 0.2, 0]\n",
    "r = 0.05\n",
    "\n",
    "# Initialize empty geometry and create circular object\n",
    "geometry = Geometry()\n",
    "circle = geometry.add_circle(c, r, lcar=resolution)"
   ]
  },
  {
   "cell_type": "markdown",
   "metadata": {},
   "source": [
    "The next step is to create the channel with the circle as a hole."
   ]
  },
  {
   "cell_type": "code",
   "execution_count": 12,
   "metadata": {},
   "outputs": [],
   "source": [
    "# Add points with finer resolution on left side\n",
    "points = [geometry.add_point((0, 0, 0), lcar=resolution),\n",
    "          geometry.add_point((L, 0, 0), lcar=5*resolution),\n",
    "          geometry.add_point((L, H, 0), lcar=5*resolution),\n",
    "          geometry.add_point((0, H, 0), lcar=resolution)]\n",
    "\n",
    "# Add lines between all points creating the rectangle\n",
    "channel_lines = [geometry.add_line(points[i], points[i+1])\n",
    "                 for i in range(-1, len(points)-1)]\n",
    "\n",
    "# Create a line loop and plane surface for meshing\n",
    "channel_loop = geometry.add_line_loop(channel_lines)\n",
    "plane_surface = geometry.add_plane_surface(\n",
    "    channel_loop, holes=[circle.line_loop])"
   ]
  },
  {
   "cell_type": "markdown",
   "metadata": {},
   "source": [
    "The final step before mesh generation is to mark the different boundaries and the volume mesh. Note that with pygmsh, boundaries with the same tag has to be added simultaneously. In this example this means that we have to add the top and \n",
    " bottom wall in one function call. "
   ]
  },
  {
   "cell_type": "code",
   "execution_count": 13,
   "metadata": {},
   "outputs": [],
   "source": [
    "volume_marker = 6\n",
    "geometry.add_physical([plane_surface], 6)\n",
    "inflow = 1\n",
    "geometry.add_physical([channel_lines[0]], inflow)\n",
    "outflow = 2\n",
    "geometry.add_physical([channel_lines[2]], outflow)\n",
    "walls = 3\n",
    "geometry.add_physical([channel_lines[1], channel_lines[3]], walls)\n",
    "obstacle = 4\n",
    "geometry.add_physical(circle.line_loop.lines, obstacle)"
   ]
  },
  {
   "cell_type": "markdown",
   "metadata": {},
   "source": [
    "We generate the mesh using the pygmsh function `generate_mesh`. We add the keyword argument `geo_filename=\"mesh.geo\"` to be able to inspect the mesh in the gmsh GUI, and `prune_z_0=True` to remove the z-coordinate from the mesh.\n",
    "To use this mesh in [the third tutorial](#third), one can add `msh_filename=\"mesh.msh\"`"
   ]
  },
  {
   "cell_type": "code",
   "execution_count": 14,
   "metadata": {},
   "outputs": [
    {
     "name": "stdout",
     "output_type": "stream",
     "text": [
      "Info    : Running 'gmsh -3 mesh.geo -format msh -bin -o mesh.msh' [Gmsh 4.6.0, 1 node, max. 1 thread]\n",
      "Info    : Started on Sat Sep 12 14:59:11 2020\n",
      "Info    : Reading 'mesh.geo'...\n",
      "Info    : Done reading 'mesh.geo'\n",
      "Info    : Meshing 1D...\n",
      "Info    : [  0%] Meshing curve 1 (Circle)\n",
      "Info    : [ 20%] Meshing curve 2 (Circle)\n",
      "Info    : [ 30%] Meshing curve 3 (Circle)\n",
      "Info    : [ 50%] Meshing curve 6 (Line)\n",
      "Info    : [ 60%] Meshing curve 7 (Line)\n",
      "Info    : [ 80%] Meshing curve 8 (Line)\n",
      "Info    : [ 90%] Meshing curve 9 (Line)\n",
      "Info    : Done meshing 1D (Wall 0.00851607s, CPU 0.008s)\n",
      "Info    : Meshing 2D...\n",
      "Info    : [  0%] Meshing surface 5 (Plane, Frontal-Delaunay)\n",
      "Info    : [ 50%] Meshing surface 11 (Plane, Frontal-Delaunay)\n",
      "Info    : Done meshing 2D (Wall 0.0718801s, CPU 0.068s)\n",
      "Info    : Meshing 3D...\n",
      "Info    : Done meshing 3D (Wall 3.48091e-05s, CPU 0s)\n",
      "Info    : 2699 nodes 5435 elements\n",
      "Info    : Writing 'mesh.msh'...\n",
      "Info    : Done writing 'mesh.msh'\n",
      "Info    : Stopped on Sat Sep 12 14:59:11 2020 (From start: Wall 0.0836709s, CPU 0.124s)\n",
      "\n",
      "msh file: mesh.msh\n",
      "\n",
      "geo file: mesh.geo\n"
     ]
    }
   ],
   "source": [
    "from pygmsh import generate_mesh\n",
    "mesh = generate_mesh(\n",
    "        geometry, prune_z_0=True,\n",
    "        geo_filename=\"mesh.geo\", msh_filename=\"mesh.msh\")"
   ]
  },
  {
   "cell_type": "markdown",
   "metadata": {},
   "source": [
    "The full script for this code can be downloaded [here](tutorial_pygmsh.py).\n",
    "\n",
    "## <a name=\"third\"></a>3. How to load existing \"msh\"-files into dolfin and dolfinx"
   ]
  },
  {
   "cell_type": "code",
   "execution_count": null,
   "metadata": {},
   "outputs": [],
   "source": []
  }
 ],
 "metadata": {
  "kernelspec": {
   "display_name": "Python 3",
   "language": "python",
   "name": "python3"
  },
  "language_info": {
   "codemirror_mode": {
    "name": "ipython",
    "version": 3
   },
   "file_extension": ".py",
   "mimetype": "text/x-python",
   "name": "python",
   "nbconvert_exporter": "python",
   "pygments_lexer": "ipython3",
   "version": "3.8.2"
  }
 },
 "nbformat": 4,
 "nbformat_minor": 4
}
