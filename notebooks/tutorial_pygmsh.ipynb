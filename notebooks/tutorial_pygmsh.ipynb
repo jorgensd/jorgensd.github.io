{
 "cells": [
  {
   "cell_type": "markdown",
   "metadata": {},
   "source": [
    "# Mesh generation and conversion for DOLFIN and DOLFIN-X"
   ]
  },
  {
   "cell_type": "markdown",
   "metadata": {},
   "source": [
    "In this tutorial, you will learn:\n",
    "1. [How to create a mesh with mesh markers in pygmsh](#first)\n",
    "2. [How to create 3D meshes with pygmsh](#second)\n",
    "3. [How to create an XDMF-file than can be imported in either dolfin or dolfinx](#third)\n",
    "\n",
    "This tutorial can be downloaded as a [Python-file](../converted_files/tutorial_pygmsh.py) or as a [Jupyter notebook](../notebooks/tutorial_pygmsh.ipynb)\n",
    "\n",
    "Prerequisites for this tutorial is to install pygmsh[>=6.1.1](https://pypi.org/project/pygmsh/6.1.1/), meshio[>=4.1.1](https://pypi.org/project/meshio/4.1.1/) and gmsh[>=4.6.0](https://gmsh.info/bin/Linux/gmsh-4.6.0-Linux64.tgz). All of these dependencies can be found in the docker image\n",
    "`dolfinx/dev-env`, which can be ran on any computer with docker using\n",
    "```bash\n",
    "docker run -ti -v $(pwd):/home/shared -w /home/shared --rm dolfinx/dev-env\n",
    "```\n",
    "## <a name=\"first\"></a> 1. How to create a mesh with pygmsh\n",
    "In this tutorial, we will learn how to create a channel with a circular obstacle, as used in the [DFG-2D 2 Turek benchmark](http://www.featflow.de/en/benchmarks/cfdbenchmarking/flow/dfg_benchmark2_re100.html).\n",
    "\n",
    "\n",
    "\n",
    "\n",
    "To do this, we use pygmsh.\n",
    "First we create an empty geometry and the circular obstacle:"
   ]
  },
  {
   "cell_type": "code",
   "execution_count": 1,
   "metadata": {},
   "outputs": [],
   "source": [
    "from pygmsh.built_in.geometry import Geometry\n",
    "resolution = 0.01\n",
    "\n",
    "# Channel parameters\n",
    "L = 2.2\n",
    "H = 0.41\n",
    "c = [0.2, 0.2, 0]\n",
    "r = 0.05\n",
    "\n",
    "# Initialize empty geometry and create circular object\n",
    "geometry = Geometry()\n",
    "circle = geometry.add_circle(c, r, lcar=resolution)"
   ]
  },
  {
   "cell_type": "markdown",
   "metadata": {},
   "source": [
    "The next step is to create the channel with the circle as a hole."
   ]
  },
  {
   "cell_type": "code",
   "execution_count": 2,
   "metadata": {},
   "outputs": [],
   "source": [
    "# Add points with finer resolution on left side\n",
    "points = [geometry.add_point((0, 0, 0), lcar=resolution),\n",
    "          geometry.add_point((L, 0, 0), lcar=5*resolution),\n",
    "          geometry.add_point((L, H, 0), lcar=5*resolution),\n",
    "          geometry.add_point((0, H, 0), lcar=resolution)]\n",
    "\n",
    "# Add lines between all points creating the rectangle\n",
    "channel_lines = [geometry.add_line(points[i], points[i+1])\n",
    "                 for i in range(-1, len(points)-1)]\n",
    "\n",
    "# Create a line loop and plane surface for meshing\n",
    "channel_loop = geometry.add_line_loop(channel_lines)\n",
    "plane_surface = geometry.add_plane_surface(\n",
    "    channel_loop, holes=[circle.line_loop])"
   ]
  },
  {
   "cell_type": "markdown",
   "metadata": {},
   "source": [
    "The final step before mesh generation is to mark the different boundaries and the volume mesh. Note that with pygmsh, boundaries with the same tag has to be added simultaneously. In this example this means that we have to add the top and \n",
    " bottom wall in one function call. "
   ]
  },
  {
   "cell_type": "code",
   "execution_count": 3,
   "metadata": {},
   "outputs": [],
   "source": [
    "volume_marker = 6\n",
    "geometry.add_physical([plane_surface], 6)\n",
    "inflow = 1\n",
    "geometry.add_physical([channel_lines[0]], inflow)\n",
    "outflow = 2\n",
    "geometry.add_physical([channel_lines[2]], outflow)\n",
    "walls = 3\n",
    "geometry.add_physical([channel_lines[1], channel_lines[3]], walls)\n",
    "obstacle = 4\n",
    "geometry.add_physical(circle.line_loop.lines, obstacle)"
   ]
  },
  {
   "cell_type": "markdown",
   "metadata": {},
   "source": [
    "We generate the mesh using the pygmsh function `generate_mesh`. We add the keyword argument `geo_filename=\"mesh.geo\"` to be able to inspect the mesh in the gmsh GUI, and `prune_z_0=True` to remove the z-coordinate from the mesh.\n",
    "To use this mesh in [the third tutorial](#third), one can add `msh_filename=\"mesh.msh\"`. The output messages of gmsh has been supressed with `verbose=False`."
   ]
  },
  {
   "cell_type": "code",
   "execution_count": 4,
   "metadata": {},
   "outputs": [
    {
     "name": "stdout",
     "output_type": "stream",
     "text": [
      "\n",
      "msh file: mesh.msh\n",
      "\n",
      "geo file: mesh.geo\n"
     ]
    }
   ],
   "source": [
    "from pygmsh import generate_mesh\n",
    "mesh = generate_mesh(\n",
    "        geometry, prune_z_0=True,\n",
    "        geo_filename=\"mesh.geo\", msh_filename=\"mesh.msh\", verbose=False)"
   ]
  },
  {
   "cell_type": "markdown",
   "metadata": {},
   "source": [
    "## <a name=\"second\"></a>2. How to create a 3D mesh using pygmsh\n",
    "To create more advanced meshes, such as 3D geometries, using the OpenCASCADE geometry kernel is recommended.\n",
    "We start by importing this kernel, and creating three objects:\n",
    "- A box $[0,0,0]\\times[1,1,1]$\n",
    "- A box $[0.5,0.0.5,1]\\times[1,1,2]$\n",
    "- A ball from $[0.5,0.5,0.5]$ with radius $0.25$."
   ]
  },
  {
   "cell_type": "code",
   "execution_count": 5,
   "metadata": {},
   "outputs": [],
   "source": [
    "import pygmsh.opencascade as opencascade\n",
    "char_length = 0.1\n",
    "geom = opencascade.Geometry()\n",
    "box0 =  geom.add_box([0.0, 0, 0], [1, 1, 1], char_length=char_length)\n",
    "box1 =  geom.add_box([0.5, 0.5, 1], [0.5, 0.5, 1], char_length=char_length)\n",
    "ball = geom.add_ball([0.5, 0.5, 0.5], 0.25, char_length=char_length)"
   ]
  },
  {
   "cell_type": "markdown",
   "metadata": {},
   "source": [
    "In this demo, we would like to make a mesh that is the union of these three objects. \n",
    "In addition, we would like the internal boundary of the sphere to be preserved in the final mesh.\n",
    "We will do this by using boolean operations. First we make a `boolean_union` of the two boxes (whose internal boundaries will not be preserved). Then, we use boolean fragments to perserve the outer boundary of the sphere."
   ]
  },
  {
   "cell_type": "code",
   "execution_count": 6,
   "metadata": {},
   "outputs": [],
   "source": [
    "union = geom.boolean_union([box0, box1])\n",
    "union_minus_ball = geom.boolean_fragments([union],[ball])"
   ]
  },
  {
   "cell_type": "markdown",
   "metadata": {},
   "source": [
    "To create physical markers for the two regions, we use the `add_physical` function. This function only works nicely if the domain whose boundary should be preserved (the sphere) is fully embedded in the other domain (the union of boxes). For more complex operations, it is recommened to do the tagging of entities in the gmsh GUI."
   ]
  },
  {
   "cell_type": "code",
   "execution_count": 7,
   "metadata": {},
   "outputs": [],
   "source": [
    "geom.add_physical(union, 1)\n",
    "geom.add_physical(union_minus_ball, 2)"
   ]
  },
  {
   "cell_type": "markdown",
   "metadata": {},
   "source": [
    "We finally generate the 3D mesh, and save both the geo and  msh file as in the previous example."
   ]
  },
  {
   "cell_type": "code",
   "execution_count": 8,
   "metadata": {},
   "outputs": [
    {
     "name": "stdout",
     "output_type": "stream",
     "text": [
      "\n",
      "msh file: mesh3D.msh\n",
      "\n",
      "geo file: mesh3D.geo\n"
     ]
    }
   ],
   "source": [
    "mesh3D = generate_mesh(geom, geo_filename=\"mesh3D.geo\", msh_filename=\"mesh3D.msh\",\n",
    "                      verbose=False)"
   ]
  },
  {
   "cell_type": "markdown",
   "metadata": {},
   "source": [
    "## <a name=\"third\"></a>3. How to load meshes into dolfin and dolfinx"
   ]
  },
  {
   "cell_type": "markdown",
   "metadata": {},
   "source": [
    "In this part of the tutorial, we will learn how to convert the meshes from the `msh` format or `pygmsh` format, into an `XDMF`-format that  is compatible with `dolfin` and `dolfinx`.\n",
    "\n",
    "We start by considering the two meshes returned by `pygmsh.generate_mesh`, namely `mesh` and `mesh3d`.\n",
    "These meshes contain cell data and possible facet data, which has to be separated to be used in dolfin/dolfinx. \n",
    "We separate this with the following convience function"
   ]
  },
  {
   "cell_type": "code",
   "execution_count": 9,
   "metadata": {},
   "outputs": [],
   "source": [
    "import numpy\n",
    "import meshio\n",
    "def create_mesh(mesh, cell_type):\n",
    "    cells = numpy.vstack([cell.data for cell in mesh.cells if cell.type==cell_type])\n",
    "    data = numpy.hstack([mesh.cell_data_dict[\"gmsh:physical\"][key]\n",
    "                           for key in mesh.cell_data_dict[\"gmsh:physical\"].keys() if key==cell_type])\n",
    "    mesh = meshio.Mesh(points=mesh.points, cells={cell_type: cells},\n",
    "                               cell_data={\"name_to_read\":[data]})\n",
    "    return mesh"
   ]
  },
  {
   "cell_type": "markdown",
   "metadata": {},
   "source": [
    "Next we use this function on the 2D meshes, and write them to file as `mesh2D.xdmf` and `mf2D.xdmf`"
   ]
  },
  {
   "cell_type": "code",
   "execution_count": 10,
   "metadata": {},
   "outputs": [],
   "source": [
    "triangle_mesh = create_mesh(mesh, \"triangle\")\n",
    "facet_mesh = create_mesh(mesh, \"line\")\n",
    "meshio.write(\"mesh2D.xdmf\", triangle_mesh)\n",
    "meshio.write(\"mf2D.xdmf\", facet_mesh)"
   ]
  },
  {
   "cell_type": "markdown",
   "metadata": {},
   "source": [
    "These XDMF-files  can be visualized in Paraview and looks like\n",
    "\n",
    "![The 2D mesh and the corresponding facet data visualized in Paraview](../assets/img/mesh2D.png)\n",
    "\n",
    "The same strategy can be used on general `msh`-files, as shown below"
   ]
  },
  {
   "cell_type": "code",
   "execution_count": 11,
   "metadata": {},
   "outputs": [],
   "source": [
    "mesh3D_from_msh = meshio.read(\"mesh3D.msh\")\n",
    "tetra_mesh = create_mesh(mesh3D_from_msh, \"tetra\")\n",
    "meshio.write(\"mesh3D_from_msh.xdmf\", tetra_mesh)"
   ]
  },
  {
   "cell_type": "markdown",
   "metadata": {},
   "source": [
    "The 3D mesh can also be visualized in Paraview\n",
    "\n",
    "![3D mesh with cell markers in Paraview](../assets/img/mesh3D.png)"
   ]
  },
  {
   "cell_type": "markdown",
   "metadata": {},
   "source": [
    "In the next tutorial, you will learn how to use these XDMF-files in dolfin and dolfinx (To be released)"
   ]
  }
 ],
 "metadata": {
  "kernelspec": {
   "display_name": "Python 3",
   "language": "python",
   "name": "python3"
  },
  "language_info": {
   "codemirror_mode": {
    "name": "ipython",
    "version": 3
   },
   "file_extension": ".py",
   "mimetype": "text/x-python",
   "name": "python",
   "nbconvert_exporter": "python",
   "pygments_lexer": "ipython3",
   "version": "3.8.2"
  }
 },
 "nbformat": 4,
 "nbformat_minor": 4
}
