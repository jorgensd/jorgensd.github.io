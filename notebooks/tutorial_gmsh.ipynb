{
 "cells": [
  {
   "cell_type": "markdown",
   "metadata": {},
   "source": [
    "# Using the GMSH Python API to generate complex meshes\n",
    "In this tutorial, we will use the gmsh API to generate complex meshes. We will in this tutorial learn how to make the 3D mesh used in the [DFG 3D laminar benchmark](http://www.featflow.de/en/benchmarks/cfdbenchmarking/flow/dfg_flow3d.html). The [first part](first) of this tutorial can be completed with the `dokken92/pygmsh-6.1.1` docker images, as described in the [pygmsh tutorial](converted_files/tutorial_pygmsh.md). For the [second](second) and [third](third) part of the tutorial, `dolfinx` is required. You can obtain a jupyter-lab image with `dolfinx/lab` and a normal docker image with `dolfinx/dolfinx`.\n",
    "\n",
    "This tutorial can be downloaded as a [Python-file](../converted_files/tutorial_gmsh.py) or as a [Jupyter notebook](../notebooks/tutorial_gmsh.ipynb)."
   ]
  },
  {
   "cell_type": "markdown",
   "metadata": {},
   "source": [
    "## <a name=\"first\"></a> 1. How to create a 3D mesh with physical tags with the GMSH python API.\n",
    "We start by import the gmsh module, and initializing the Python API. **NOTE:** This has to be done in order to run any function in the GMSH API."
   ]
  },
  {
   "cell_type": "code",
   "execution_count": 1,
   "metadata": {},
   "outputs": [],
   "source": [
    "import warnings\n",
    "warnings.filterwarnings(\"ignore\")\n",
    "import gmsh\n",
    "gmsh.initialize()"
   ]
  },
  {
   "cell_type": "markdown",
   "metadata": {},
   "source": [
    "The next step is to create the rectangular channel of the benchmark. In GMSH, there are two kernels for geometry computations; the `built_in` kernel ( `gmsh.model.geo`), and the [OpenCascade](https://www.opencascade.com/) kernel (`gmsh.model.opencascade`). In this tutorial, we will use the the `occ` kernel, as it is better suited. Other demos of the usage of the gmsh python API can be found in their [GitLab repository](https://gitlab.onelab.info/gmsh/gmsh/-/tree/master/tutorial/python)."
   ]
  },
  {
   "cell_type": "code",
   "execution_count": 2,
   "metadata": {},
   "outputs": [],
   "source": [
    "gmsh.model.add(\"DFG 3D\")\n",
    "L, B, H, r = 2.5, 0.41, 0.41, 0.05\n",
    "channel = gmsh.model.occ.addBox(0, 0, 0, L, B, H)"
   ]
  },
  {
   "cell_type": "markdown",
   "metadata": {},
   "source": [
    "The next step is to create the cylinder, which is done in the following way"
   ]
  },
  {
   "cell_type": "code",
   "execution_count": 3,
   "metadata": {},
   "outputs": [],
   "source": [
    "cylinder = gmsh.model.occ.addCylinder(0.5, 0,0.2,0, B, 0, r)"
   ]
  },
  {
   "cell_type": "markdown",
   "metadata": {},
   "source": [
    "where the first three arguments describes the (x,y,z) coordinate of the center of the first circular face. The next three arguments describes the axis of height of the cylinder, in this case, it is (0,0.41,0). The final parameter is the radius of the cylinder.\n",
    "We have now created two geometrical objects, that each can be meshed with GMSH. However, we are only interested in the fluid volume in the channel, which whould be the channel excluding the sphere. We use the GMSH command `BooleanDifference` for this"
   ]
  },
  {
   "cell_type": "code",
   "execution_count": 4,
   "metadata": {},
   "outputs": [],
   "source": [
    "fluid = gmsh.model.occ.cut([(3, channel)], [(3, cylinder)])"
   ]
  },
  {
   "cell_type": "markdown",
   "metadata": {},
   "source": [
    "where the first argument `[(3, channel)]`is a list of tuples, where the first argument is the geometrical dimension of the entity (Point=0, Line=1, Surface=2, Volume=3). and channel is a unique integer identifying the channel. Similarly, the second argument is the list of tuples of entities we would like to exclude from \n",
    "the newly created fluid volume.\n",
    "The next step is to tag physical entities, such as the fluid volume, and inlets, outlets, channel walls and obstacle walls.\n",
    "We start by finding the volumes, which after the `cut`-operation is only the fluid volume. We could have kept the other volumes by supply keyword arguments to the  `cut`operation. See the [GMSH Python API](https://gitlab.onelab.info/gmsh/gmsh/-/blob/master/api/gmsh.py#L5143) for more information. We also need to syncronize the CAD module before tagging entities."
   ]
  },
  {
   "cell_type": "code",
   "execution_count": 5,
   "metadata": {},
   "outputs": [],
   "source": [
    "gmsh.model.occ.synchronize()\n",
    "volumes = gmsh.model.getEntities(dim=3)\n",
    "assert(volumes == fluid[0])\n",
    "fluid_marker = 11\n",
    "gmsh.model.addPhysicalGroup(volumes[0][0], [volumes[0][1]], fluid_marker)\n",
    "gmsh.model.setPhysicalName(volumes[0][0], fluid_marker, \"Fluid volume\")"
   ]
  },
  {
   "cell_type": "markdown",
   "metadata": {},
   "source": [
    "For the surfaces, we start by finding all surfaces, and then compute the geometrical center such that we can indentify which are inlets, outlets, walls and the obstacle. As the walls will consist of multiple surfaces, and the obstacle is circular, we need to find all entites before addin the physical group."
   ]
  },
  {
   "cell_type": "code",
   "execution_count": 6,
   "metadata": {},
   "outputs": [],
   "source": [
    "import numpy as np\n",
    "surfaces = gmsh.model.occ.getEntities(dim=2)\n",
    "inlet_marker, outlet_marker, wall_marker, obstacle_marker = 1, 3, 5, 7\n",
    "walls = []\n",
    "obstacles = []\n",
    "for surface in surfaces:\n",
    "    com = gmsh.model.occ.getCenterOfMass(surface[0], surface[1])\n",
    "    if np.allclose(com, [0, B/2, H/2]):\n",
    "        gmsh.model.addPhysicalGroup(surface[0], [surface[1]], inlet_marker)\n",
    "        inlet = surface[1]\n",
    "        gmsh.model.setPhysicalName(surface[0], inlet_marker, \"Fluid inlet\")\n",
    "    elif np.allclose(com, [L, B/2, H/2]):\n",
    "        gmsh.model.addPhysicalGroup(surface[0], [surface[1]], outlet_marker)\n",
    "        gmsh.model.setPhysicalName(surface[0], outlet_marker, \"Fluid outlet\")\n",
    "    elif np.isclose(com[2], 0) or np.isclose(com[1], B) or np.isclose(com[2], H) or np.isclose(com[1],0):\n",
    "        walls.append(surface[1])\n",
    "    else:\n",
    "        obstacles.append(surface[1])\n",
    "gmsh.model.addPhysicalGroup(2, walls, wall_marker)\n",
    "gmsh.model.setPhysicalName(2, wall_marker, \"Walls\")\n",
    "gmsh.model.addPhysicalGroup(2, obstacles, obstacle_marker)\n",
    "gmsh.model.setPhysicalName(2, obstacle_marker, \"Obstacle\")"
   ]
  },
  {
   "cell_type": "markdown",
   "metadata": {},
   "source": [
    "The final step is to set mesh resolutions. We will use `GMSH Fields` to do this. One can alternatively set mesh resolutions at points with the command `gmsh.model.occ.mesh.setSize`. We start by specifying a distance field from the obstacle surface"
   ]
  },
  {
   "cell_type": "code",
   "execution_count": 7,
   "metadata": {},
   "outputs": [],
   "source": [
    "gmsh.model.mesh.field.add(\"Distance\", 1)\n",
    "gmsh.model.mesh.field.setNumbers(1, \"FacesList\", obstacles)"
   ]
  },
  {
   "cell_type": "markdown",
   "metadata": {},
   "source": [
    "The next step is to use a threshold function vary the resolution from these surfaces in the following way:\n",
    "```\n",
    "LcMax -                  /--------\n",
    "                     /\n",
    "LcMin -o---------/\n",
    "       |         |       |\n",
    "      Point    DistMin DistMax\n",
    "```"
   ]
  },
  {
   "cell_type": "code",
   "execution_count": 8,
   "metadata": {},
   "outputs": [],
   "source": [
    "resolution = r/10\n",
    "gmsh.model.mesh.field.add(\"Threshold\", 2)\n",
    "gmsh.model.mesh.field.setNumber(2, \"IField\", 1)\n",
    "gmsh.model.mesh.field.setNumber(2, \"LcMin\", resolution)\n",
    "gmsh.model.mesh.field.setNumber(2, \"LcMax\", 20*resolution)\n",
    "gmsh.model.mesh.field.setNumber(2, \"DistMin\", 0.5*r)\n",
    "gmsh.model.mesh.field.setNumber(2, \"DistMax\", r)\n"
   ]
  },
  {
   "cell_type": "markdown",
   "metadata": {},
   "source": [
    "We add a similar threshold at the inlet to ensure fully resolved inlet flow"
   ]
  },
  {
   "cell_type": "code",
   "execution_count": 9,
   "metadata": {},
   "outputs": [],
   "source": [
    "gmsh.model.mesh.field.add(\"Distance\", 3)\n",
    "gmsh.model.mesh.field.setNumbers(3, \"FacesList\", [inlet])\n",
    "gmsh.model.mesh.field.add(\"Threshold\", 4)\n",
    "gmsh.model.mesh.field.setNumber(4, \"IField\", 3)\n",
    "gmsh.model.mesh.field.setNumber(4, \"LcMin\", 5*resolution)\n",
    "gmsh.model.mesh.field.setNumber(4, \"LcMax\", 10*resolution)\n",
    "gmsh.model.mesh.field.setNumber(4, \"DistMin\", 0.1)\n",
    "gmsh.model.mesh.field.setNumber(4, \"DistMax\", 0.5)"
   ]
  },
  {
   "cell_type": "markdown",
   "metadata": {},
   "source": [
    "We combine these fields by using the minimum field"
   ]
  },
  {
   "cell_type": "code",
   "execution_count": 10,
   "metadata": {},
   "outputs": [],
   "source": [
    "gmsh.model.mesh.field.add(\"Min\", 5)\n",
    "gmsh.model.mesh.field.setNumbers(5, \"FieldsList\", [2, 4])\n",
    "gmsh.model.mesh.field.setAsBackgroundMesh(5)"
   ]
  },
  {
   "cell_type": "markdown",
   "metadata": {},
   "source": [
    "Before meshing the model, we need to use the syncronize command"
   ]
  },
  {
   "cell_type": "code",
   "execution_count": 11,
   "metadata": {},
   "outputs": [],
   "source": [
    "gmsh.model.occ.synchronize()\n",
    "gmsh.model.mesh.generate(3)"
   ]
  },
  {
   "cell_type": "markdown",
   "metadata": {},
   "source": [
    "We can write the mesh to msh to be visualized with gmsh with the following command"
   ]
  },
  {
   "cell_type": "code",
   "execution_count": 12,
   "metadata": {},
   "outputs": [],
   "source": [
    "gmsh.write(\"mesh3D.msh\")"
   ]
  },
  {
   "cell_type": "markdown",
   "metadata": {},
   "source": [
    "The mesh can be visualized in the GMSH GUI. The figure above visualized the marked facets of the 3D geometry.\n",
    "![Facets of the 3D mesh visualized in GMSH](../assets/img/tutorial_gmsh.png)"
   ]
  },
  {
   "cell_type": "markdown",
   "metadata": {},
   "source": [
    "In the next tutorials, we will learn two diffferent methods of loading this mesh into [dolfin-X](https://github.com/FEniCS/dolfinx/)"
   ]
  },
  {
   "cell_type": "markdown",
   "metadata": {},
   "source": [
    "## <a name=\"second\"></a> 2. How to load this mesh into dolfin-X without IO\n",
    "In his tutorial, we will go through the steps of how to load the gmsh geometry above into dolfin-X, without using an\n",
    "intermediate file for storing mesh data."
   ]
  },
  {
   "cell_type": "markdown",
   "metadata": {},
   "source": [
    "### Stort tutorial\n",
    "Download [gmsh_helpers.py](gmsh_helpers.py), and run the following"
   ]
  },
  {
   "cell_type": "code",
   "execution_count": 13,
   "metadata": {},
   "outputs": [],
   "source": [
    "from gmsh_helpers import gmsh_model_to_mesh\n",
    "mesh, cell_tags, facet_tags = gmsh_model_to_mesh(gmsh.model, cell_data=True, facet_data=True, gdim=3)"
   ]
  },
  {
   "cell_type": "markdown",
   "metadata": {},
   "source": [
    "This function creates a mesh on processor 0 with GMSH and distributes the mesh data in a `dolfinx.Mesh` for parallel usage. The flags `cell_data` and `facet_data` are booleans that indicates that you would like to extract cell and facet markers from the gmsh model. The last flag `gdim` indicates the geometrical dimension of your mesh, and should be set to `2` if you want to have a 2D geometry.\n",
    "### Long tutorial\n",
    "If you want to learn what the `gmsh_model_to_mesh` function is actualy doing, the rest of this section will go through it step by step. Note that the long tutorial assumes that you are running in serial, and does therefore not require the MPI-communication found in `gmsh_model_to_mesh`.\n",
    "We start by using some convenience functions from dolfin-x to extract the mesh geometry (the nodes of the mesh) and the mesh topology (the cell connectivities) for the mesh."
   ]
  },
  {
   "cell_type": "code",
   "execution_count": 14,
   "metadata": {},
   "outputs": [],
   "source": [
    "from dolfinx.io import extract_gmsh_geometry, extract_gmsh_topology_and_markers "
   ]
  },
  {
   "cell_type": "code",
   "execution_count": 15,
   "metadata": {},
   "outputs": [],
   "source": [
    "x = extract_gmsh_geometry(gmsh.model)\n",
    "topologies = extract_gmsh_topology_and_markers(gmsh.model)"
   ]
  },
  {
   "cell_type": "markdown",
   "metadata": {},
   "source": [
    "The mesh geometry is a (number of points, 3) array of all the coordinates of the nodes in the mesh. The topologies is a dictionary, where the key is the unique [GMSH cell identifier](http://gmsh.info//doc/texinfo/gmsh.html#MSH-file-format). For each cell type, there is a sub-dictionary containing the mesh topology, an array (number_of_cells, number_of_nodes_per_cell) array containing an integer referring to a row (coordinate) in the mesh geometry, and a 1D array (cell_data) with mesh markers for each cell in the topology.\n",
    "\n",
    "As an MSH-file can contain meshes for multiple topological dimensions (0=vertices, 1=lines, 2=surfaces, 3=volumes), we have to determine which of the cells has to highest topological dimension. We do this with the following snippet"
   ]
  },
  {
   "cell_type": "code",
   "execution_count": 16,
   "metadata": {},
   "outputs": [],
   "source": [
    "import numpy\n",
    "# Get information about each cell type from the msh files\n",
    "num_cell_types = len(topologies.keys())\n",
    "cell_information = {}\n",
    "cell_dimensions = numpy.zeros(num_cell_types, dtype=numpy.int32)\n",
    "for i, element in enumerate(topologies.keys()):\n",
    "    properties = gmsh.model.mesh.getElementProperties(element)\n",
    "    name, dim, order, num_nodes, local_coords, _ = properties\n",
    "    cell_information[i] = {\"id\": element, \"dim\": dim,\n",
    "                           \"num_nodes\": num_nodes}\n",
    "    cell_dimensions[i] = dim\n",
    "\n",
    "# Sort elements by ascending dimension\n",
    "perm_sort = numpy.argsort(cell_dimensions)"
   ]
  },
  {
   "cell_type": "markdown",
   "metadata": {},
   "source": [
    "We extract the topology of the cell with the highest topological dimension from `topologies`, and create the corresponding `ufl.domain.Mesh` for the given celltype"
   ]
  },
  {
   "cell_type": "code",
   "execution_count": 17,
   "metadata": {},
   "outputs": [],
   "source": [
    "from dolfinx.io import ufl_mesh_from_gmsh\n",
    "cell_id = cell_information[perm_sort[-1]][\"id\"]\n",
    "cells = topologies[cell_id][\"topology\"]\n",
    "ufl_domain = ufl_mesh_from_gmsh(cell_id, 3)"
   ]
  },
  {
   "cell_type": "markdown",
   "metadata": {},
   "source": [
    "As the GMSH model has the cell topology ordered as specified in the  [MSH format](http://gmsh.info//doc/texinfo/gmsh.html#Node-ordering),\n",
    "we have to permute the topology to the [FIAT format](https://github.com/FEniCS/dolfinx/blob/e7f0a504e6ff538ad9992d8be73f74f53b630d11/cpp/dolfinx/io/cells.h#L16-L77). The permuation is done using the `perm_gmsh` function from dolfin-X."
   ]
  },
  {
   "cell_type": "code",
   "execution_count": 18,
   "metadata": {},
   "outputs": [],
   "source": [
    "from dolfinx.cpp.io import perm_gmsh\n",
    "from dolfinx.cpp.mesh import to_type\n",
    "num_nodes = cell_information[perm_sort[-1]][\"num_nodes\"]\n",
    "gmsh_cell_perm = perm_gmsh(to_type(str(ufl_domain.ufl_cell())), num_nodes)\n",
    "cells = cells[:, gmsh_cell_perm]"
   ]
  },
  {
   "cell_type": "markdown",
   "metadata": {},
   "source": [
    "The final step is to create the mesh from the topology and geometry"
   ]
  },
  {
   "cell_type": "code",
   "execution_count": 19,
   "metadata": {},
   "outputs": [],
   "source": [
    "from dolfinx.mesh import create_mesh\n",
    "from mpi4py import MPI\n",
    "mesh = create_mesh(MPI.COMM_WORLD, cells, x, ufl_domain)\n",
    "# NOTE: Add plotting when https://github.com/FEniCS/dolfinx/pull/1158 is merged\n",
    "# from dolfinx.plotting import plot\n",
    "# plot(mesh)"
   ]
  },
  {
   "cell_type": "markdown",
   "metadata": {},
   "source": [
    "As the meshes can contain markers for the cells or any sub entity, the next snippets show how to extract this info to GMSH into `dolfinx.MeshTags`."
   ]
  },
  {
   "cell_type": "code",
   "execution_count": 20,
   "metadata": {},
   "outputs": [],
   "source": [
    "from dolfinx.cpp.io import extract_local_entities\n",
    "from dolfinx.cpp.graph import AdjacencyList_int32\n",
    "from dolfinx.cpp.mesh import cell_entity_type\n",
    "from dolfinx.mesh import create_meshtags\n",
    "# Create MeshTags for cell data\n",
    "cell_values = topologies[cell_id][\"cell_data\"]\n",
    "local_entities, local_values = extract_local_entities(mesh, mesh.topology.dim, cells, cell_values)\n",
    "mesh.topology.create_connectivity(mesh.topology.dim, 0)\n",
    "adj = AdjacencyList_int32(local_entities)\n",
    "ct = create_meshtags(mesh, mesh.topology.dim, adj, numpy.int32(local_values))\n",
    "ct.name = \"Cell tags\"\n",
    "\n",
    "# Create MeshTags for facets\n",
    "# Permute facets from MSH to Dolfin-X ordering\n",
    "facet_type = cell_entity_type(to_type(str(ufl_domain.ufl_cell())), mesh.topology.dim - 1)\n",
    "gmsh_facet_id = cell_information[perm_sort[-2]][\"id\"]\n",
    "num_facet_nodes = cell_information[perm_sort[-2]][\"num_nodes\"]\n",
    "gmsh_facet_perm = perm_gmsh(facet_type, num_facet_nodes)\n",
    "marked_facets = topologies[gmsh_facet_id][\"topology\"]\n",
    "facet_values = topologies[gmsh_facet_id][\"cell_data\"]\n",
    "marked_facets = marked_facets[:, gmsh_facet_perm]\n",
    "local_entities, local_values = extract_local_entities(mesh, mesh.topology.dim - 1, marked_facets, facet_values)\n",
    "mesh.topology.create_connectivity(mesh.topology.dim - 1, mesh.topology.dim)\n",
    "adj = AdjacencyList_int32(local_entities)\n",
    "ft = create_meshtags(mesh, mesh.topology.dim - 1,adj, numpy.int32(local_values))\n",
    "ft.name = \"Facet tags\""
   ]
  },
  {
   "cell_type": "markdown",
   "metadata": {},
   "source": [
    "## <a name=\"third\"></a> 3. How to load msh files into dolfin-X\n",
    "In the previous tutorial, we learnt how to load a gmsh python model into dolfin-X. In this section, we will learn how to load an \"msh\" file into dolfin-X.\n",
    "We will do this by using the `gmsh_model_to_mesh` function explained in detail in the previous section.\n",
    "We load the `read_from_msh`-function from [gmsh_helpers.py](gmsh_helpers.py) and use it in the following way"
   ]
  },
  {
   "cell_type": "code",
   "execution_count": 21,
   "metadata": {},
   "outputs": [],
   "source": [
    "from gmsh_helpers import read_from_msh\n",
    "mesh, cell_tags, facet_tags = read_from_msh(\"mesh3D.msh\", cell_data=True, facet_data=True, gdim=3)"
   ]
  },
  {
   "cell_type": "markdown",
   "metadata": {},
   "source": [
    "What this function does, is that it uses the `gmsh.merge` command to create a gmsh model of the msh file and then in turn calls the `gmsh_model_to_mesh` function.\n",
    "The `read_from_msh` function also handles MPI communication and gmsh initialization/finalization."
   ]
  },
  {
   "cell_type": "code",
   "execution_count": 22,
   "metadata": {},
   "outputs": [],
   "source": [
    "gmsh.finalize()\n",
    "gmsh.initialize()\n",
    "gmsh.model.add(\"Mesh from file\")\n",
    "gmsh.merge(\"mesh3D.msh\")\n",
    "output = gmsh_model_to_mesh(gmsh.model, cell_data=True, facet_data=True, gdim=3)\n",
    "gmsh.finalize()"
   ]
  }
 ],
 "metadata": {
  "kernelspec": {
   "display_name": "Python 3",
   "language": "python",
   "name": "python3"
  },
  "language_info": {
   "codemirror_mode": {
    "name": "ipython",
    "version": 3
   },
   "file_extension": ".py",
   "mimetype": "text/x-python",
   "name": "python",
   "nbconvert_exporter": "python",
   "pygments_lexer": "ipython3",
   "version": "3.8.2"
  }
 },
 "nbformat": 4,
 "nbformat_minor": 4
}
