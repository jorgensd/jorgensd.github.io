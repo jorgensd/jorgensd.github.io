{
 "cells": [
  {
   "cell_type": "markdown",
   "metadata": {},
   "source": [
    "# Using the GMSH Python API to generate complex meshes\n",
    "In this tutorial, we will use the gmsh API to generate complex meshes. We will in this tutorial learn how to make the 3D mesh used in the [DFG 3D laminar benchmark](http://www.featflow.de/en/benchmarks/cfdbenchmarking/flow/dfg_flow3d.html). The [first part](first) of this tutorial can be completed with the `dokken92/pygmsh` docker images, as described in the [pygmsh tutorial](tutorial_pygmsh.md).\n",
    "\n",
    "For the [second](second) and [third](third) part of the tutorial, `dolfinx` is required. You can obtain a jupyter-lab image with `dolfinx/lab` and a normal docker image with `dolfinx/dolfinx`.\n",
    "\n",
    "This tutorial can be downloaded as a [Python-file](tutorial_gmsh.py) or as a [Jupyter notebook](tutorial_gmsh.ipynb)."
   ]
  },
  {
   "cell_type": "markdown",
   "metadata": {},
   "source": [
    "## <a name=\"first\"></a> 1. How to create a 3D mesh with physical tags with the GMSH python API.\n",
    "We start by import the gmsh module, and initializing the Python API. **NOTE:** This has to be done in order to run any function in the GMSH API."
   ]
  },
  {
   "cell_type": "code",
   "execution_count": 1,
   "metadata": {},
   "outputs": [],
   "source": [
    "import warnings\n",
    "warnings.filterwarnings(\"ignore\")\n",
    "import gmsh\n",
    "gmsh.initialize()"
   ]
  },
  {
   "cell_type": "markdown",
   "metadata": {},
   "source": [
    "The next step is to create the rectangular channel of the benchmark. In GMSH, there are two kernels for geometry computations; the `built_in` kernel ( `gmsh.model.geo`), and the [OpenCascade](https://www.opencascade.com/) kernel (`gmsh.model.opencascade`). In this tutorial, we will use the the `occ` kernel, as it is better suited. Other demos of the usage of the gmsh python API can be found in their [GitLab repository](https://gitlab.onelab.info/gmsh/gmsh/-/tree/master/tutorial/python)."
   ]
  },
  {
   "cell_type": "code",
   "execution_count": 2,
   "metadata": {},
   "outputs": [],
   "source": [
    "gmsh.model.add(\"DFG 3D\")\n",
    "L, B, H, r = 2.5, 0.41, 0.41, 0.05\n",
    "channel = gmsh.model.occ.addBox(0, 0, 0, L, B, H)"
   ]
  },
  {
   "cell_type": "markdown",
   "metadata": {},
   "source": [
    "The next step is to create the cylinder, which is done in the following way"
   ]
  },
  {
   "cell_type": "code",
   "execution_count": 3,
   "metadata": {},
   "outputs": [],
   "source": [
    "cylinder = gmsh.model.occ.addCylinder(0.5, 0,0.2,0, B, 0, r)"
   ]
  },
  {
   "cell_type": "markdown",
   "metadata": {},
   "source": [
    "where the first three arguments describes the (x,y,z) coordinate of the center of the first circular face. The next three arguments describes the axis of height of the cylinder, in this case, it is (0,0.41,0). The final parameter is the radius of the cylinder.\n",
    "We have now created two geometrical objects, that each can be meshed with GMSH. However, we are only interested in the fluid volume in the channel, which whould be the channel excluding the sphere. We use the GMSH command `BooleanDifference` for this"
   ]
  },
  {
   "cell_type": "code",
   "execution_count": 4,
   "metadata": {},
   "outputs": [],
   "source": [
    "fluid = gmsh.model.occ.cut([(3, channel)], [(3, cylinder)])"
   ]
  },
  {
   "cell_type": "markdown",
   "metadata": {},
   "source": [
    "where the first argument `[(3, channel)]`is a list of tuples, where the first argument is the geometrical dimension of the entity (Point=0, Line=1, Surface=2, Volume=3). and channel is a unique integer identifying the channel. Similarly, the second argument is the list of tuples of entities we would like to exclude from \n",
    "the newly created fluid volume.\n",
    "The next step is to tag physical entities, such as the fluid volume, and inlets, outlets, channel walls and obstacle walls.\n",
    "We start by finding the volumes, which after the `cut`-operation is only the fluid volume. We could have kept the other volumes by supply keyword arguments to the  `cut`operation. See the [GMSH Python API](https://gitlab.onelab.info/gmsh/gmsh/-/blob/master/api/gmsh.py#L5143) for more information. We also need to syncronize the CAD module before tagging entities."
   ]
  },
  {
   "cell_type": "code",
   "execution_count": 5,
   "metadata": {},
   "outputs": [],
   "source": [
    "gmsh.model.occ.synchronize()\n",
    "volumes = gmsh.model.getEntities(dim=3)\n",
    "assert(volumes == fluid[0])\n",
    "fluid_marker = 11\n",
    "gmsh.model.addPhysicalGroup(volumes[0][0], [volumes[0][1]], fluid_marker)\n",
    "gmsh.model.setPhysicalName(volumes[0][0], fluid_marker, \"Fluid volume\")"
   ]
  },
  {
   "cell_type": "markdown",
   "metadata": {},
   "source": [
    "For the surfaces, we start by finding all surfaces, and then compute the geometrical center such that we can indentify which are inlets, outlets, walls and the obstacle. As the walls will consist of multiple surfaces, and the obstacle is circular, we need to find all entites before addin the physical group."
   ]
  },
  {
   "cell_type": "code",
   "execution_count": 6,
   "metadata": {},
   "outputs": [],
   "source": [
    "import numpy as np"
   ]
  },
  {
   "cell_type": "code",
   "execution_count": 7,
   "metadata": {},
   "outputs": [],
   "source": [
    "surfaces = gmsh.model.occ.getEntities(dim=2)\n",
    "inlet_marker, outlet_marker, wall_marker, obstacle_marker = 1, 3, 5, 7\n",
    "walls = []\n",
    "obstacles = []\n",
    "for surface in surfaces:\n",
    "    com = gmsh.model.occ.getCenterOfMass(surface[0], surface[1])\n",
    "    if np.allclose(com, [0, B/2, H/2]):\n",
    "        gmsh.model.addPhysicalGroup(surface[0], [surface[1]], inlet_marker)\n",
    "        inlet = surface[1]\n",
    "        gmsh.model.setPhysicalName(surface[0], inlet_marker, \"Fluid inlet\")\n",
    "    elif np.allclose(com, [L, B/2, H/2]):\n",
    "        gmsh.model.addPhysicalGroup(surface[0], [surface[1]], outlet_marker)\n",
    "        gmsh.model.setPhysicalName(surface[0], outlet_marker, \"Fluid outlet\")\n",
    "    elif np.isclose(com[2], 0) or np.isclose(com[1], B) or np.isclose(com[2], H) or np.isclose(com[1],0):\n",
    "        walls.append(surface[1])\n",
    "    else:\n",
    "        obstacles.append(surface[1])\n",
    "gmsh.model.addPhysicalGroup(2, walls, wall_marker)\n",
    "gmsh.model.setPhysicalName(2, wall_marker, \"Walls\")\n",
    "gmsh.model.addPhysicalGroup(2, obstacles, obstacle_marker)\n",
    "gmsh.model.setPhysicalName(2, obstacle_marker, \"Obstacle\")"
   ]
  },
  {
   "cell_type": "markdown",
   "metadata": {},
   "source": [
    "The final step is to set mesh resolutions. We will use `GMSH Fields` to do this. One can alternatively set mesh resolutions at points with the command `gmsh.model.occ.mesh.setSize`. We start by specifying a distance field from the obstacle surface"
   ]
  },
  {
   "cell_type": "code",
   "execution_count": 8,
   "metadata": {},
   "outputs": [],
   "source": [
    "gmsh.model.mesh.field.add(\"Distance\", 1)\n",
    "gmsh.model.mesh.field.setNumbers(1, \"FacesList\", obstacles)"
   ]
  },
  {
   "cell_type": "markdown",
   "metadata": {},
   "source": [
    "The next step is to use a threshold function vary the resolution from these surfaces in the following way:\n",
    "```\n",
    "LcMax -                  /--------\n",
    "                     /\n",
    "LcMin -o---------/\n",
    "       |         |       |\n",
    "      Point    DistMin DistMax\n",
    "```"
   ]
  },
  {
   "cell_type": "code",
   "execution_count": 9,
   "metadata": {
    "lines_to_next_cell": 2
   },
   "outputs": [],
   "source": [
    "resolution = r/10\n",
    "gmsh.model.mesh.field.add(\"Threshold\", 2)\n",
    "gmsh.model.mesh.field.setNumber(2, \"IField\", 1)\n",
    "gmsh.model.mesh.field.setNumber(2, \"LcMin\", resolution)\n",
    "gmsh.model.mesh.field.setNumber(2, \"LcMax\", 20*resolution)\n",
    "gmsh.model.mesh.field.setNumber(2, \"DistMin\", 0.5*r)\n",
    "gmsh.model.mesh.field.setNumber(2, \"DistMax\", r)"
   ]
  },
  {
   "cell_type": "markdown",
   "metadata": {},
   "source": [
    "We add a similar threshold at the inlet to ensure fully resolved inlet flow"
   ]
  },
  {
   "cell_type": "code",
   "execution_count": 10,
   "metadata": {},
   "outputs": [],
   "source": [
    "gmsh.model.mesh.field.add(\"Distance\", 3)\n",
    "gmsh.model.mesh.field.setNumbers(3, \"FacesList\", [inlet])\n",
    "gmsh.model.mesh.field.add(\"Threshold\", 4)\n",
    "gmsh.model.mesh.field.setNumber(4, \"IField\", 3)\n",
    "gmsh.model.mesh.field.setNumber(4, \"LcMin\", 5*resolution)\n",
    "gmsh.model.mesh.field.setNumber(4, \"LcMax\", 10*resolution)\n",
    "gmsh.model.mesh.field.setNumber(4, \"DistMin\", 0.1)\n",
    "gmsh.model.mesh.field.setNumber(4, \"DistMax\", 0.5)"
   ]
  },
  {
   "cell_type": "markdown",
   "metadata": {},
   "source": [
    "We combine these fields by using the minimum field"
   ]
  },
  {
   "cell_type": "code",
   "execution_count": 11,
   "metadata": {},
   "outputs": [],
   "source": [
    "gmsh.model.mesh.field.add(\"Min\", 5)\n",
    "gmsh.model.mesh.field.setNumbers(5, \"FieldsList\", [2, 4])\n",
    "gmsh.model.mesh.field.setAsBackgroundMesh(5)"
   ]
  },
  {
   "cell_type": "markdown",
   "metadata": {},
   "source": [
    "Before meshing the model, we need to use the syncronize command"
   ]
  },
  {
   "cell_type": "code",
   "execution_count": 12,
   "metadata": {},
   "outputs": [
    {
     "name": "stdout",
     "output_type": "stream",
     "text": [
      "Info    : Meshing 1D...\n",
      "Info    : [  0%] Meshing curve 1 (Line)\n",
      "Info    : [ 10%] Meshing curve 2 (Line)\n",
      "Info    : [ 20%] Meshing curve 3 (Line)\n",
      "Info    : [ 20%] Meshing curve 4 (Line)\n",
      "Info    : [ 30%] Meshing curve 5 (Line)\n",
      "Info    : [ 40%] Meshing curve 6 (Line)\n",
      "Info    : [ 40%] Meshing curve 7 (Line)\n",
      "Info    : [ 50%] Meshing curve 8 (Circle)\n",
      "Info    : [ 60%] Meshing curve 9 (Line)\n",
      "Info    : [ 60%] Meshing curve 10 (Line)\n",
      "Info    : [ 70%] Meshing curve 11 (Line)\n",
      "Info    : [ 80%] Meshing curve 12 (Line)\n",
      "Info    : [ 80%] Meshing curve 13 (Circle)\n",
      "Info    : [ 90%] Meshing curve 14 (Line)\n",
      "Info    : [100%] Meshing curve 15 (Line)\n",
      "Info    : Done meshing 1D (Wall 0.0325877s, CPU 0.030094s)\n",
      "Info    : Meshing 2D...\n",
      "Info    : [  0%] Meshing surface 1 (Plane, Frontal-Delaunay)\n",
      "Info    : [ 20%] Meshing surface 2 (Plane, Frontal-Delaunay)\n",
      "Info    : [ 30%] Meshing surface 3 (Plane, Frontal-Delaunay)\n",
      "Info    : [ 50%] Meshing surface 4 (Plane, Frontal-Delaunay)\n",
      "Info    : [ 60%] Meshing surface 5 (Plane, Frontal-Delaunay)\n",
      "Info    : [ 80%] Meshing surface 6 (Plane, Frontal-Delaunay)\n",
      "Info    : [ 90%] Meshing surface 7 (Cylinder, Frontal-Delaunay)\n",
      "Info    : Done meshing 2D (Wall 0.712173s, CPU 0.714218s)\n",
      "Info    : Meshing 3D...\n",
      "Info    : 3D Meshing 1 volume with 1 connected component\n",
      "Info    : Tetrahedrizing 10221 nodes...\n",
      "Info    : Done tetrahedrizing 10229 nodes (Wall 0.300144s, CPU 0.300872s)\n",
      "Info    : Reconstructing mesh...\n",
      "Info    :  - Creating surface mesh\n",
      "Info    :  - Identifying boundary edges\n",
      "Info    :  - Recovering boundary\n",
      "Info    : Done reconstructing mesh (Wall 0.688851s, CPU 0.676173s)\n",
      "Info    : Found volume 1\n",
      "Info    : It. 0 - 0 nodes created - worst tet radius 19.0147 (nodes removed 0 0)\n",
      "Info    : It. 500 - 500 nodes created - worst tet radius 3.90188 (nodes removed 0 0)\n",
      "Info    : It. 1000 - 1000 nodes created - worst tet radius 2.85665 (nodes removed 0 0)\n",
      "Info    : It. 1500 - 1500 nodes created - worst tet radius 2.51273 (nodes removed 0 0)\n",
      "Info    : It. 2000 - 2000 nodes created - worst tet radius 2.24915 (nodes removed 0 0)\n",
      "Info    : It. 2500 - 2500 nodes created - worst tet radius 2.10452 (nodes removed 0 0)\n",
      "Info    : It. 3000 - 3000 nodes created - worst tet radius 1.98375 (nodes removed 0 0)\n",
      "Info    : It. 3500 - 3500 nodes created - worst tet radius 1.87797 (nodes removed 0 0)\n",
      "Info    : It. 4000 - 4000 nodes created - worst tet radius 1.80019 (nodes removed 0 0)\n",
      "Info    : It. 4500 - 4500 nodes created - worst tet radius 1.72818 (nodes removed 0 0)\n",
      "Info    : It. 5000 - 5000 nodes created - worst tet radius 1.67708 (nodes removed 0 0)\n",
      "Info    : It. 5500 - 5500 nodes created - worst tet radius 1.62897 (nodes removed 0 0)\n",
      "Info    : It. 6000 - 6000 nodes created - worst tet radius 1.58725 (nodes removed 0 0)\n",
      "Info    : It. 6500 - 6500 nodes created - worst tet radius 1.54823 (nodes removed 0 0)\n",
      "Info    : It. 7000 - 7000 nodes created - worst tet radius 1.51197 (nodes removed 0 0)\n",
      "Info    : It. 7500 - 7500 nodes created - worst tet radius 1.47738 (nodes removed 0 0)\n",
      "Info    : It. 8000 - 8000 nodes created - worst tet radius 1.44843 (nodes removed 0 0)\n",
      "Info    : It. 8500 - 8500 nodes created - worst tet radius 1.422 (nodes removed 0 0)\n",
      "Info    : It. 9000 - 9000 nodes created - worst tet radius 1.39781 (nodes removed 0 0)\n",
      "Info    : It. 9500 - 9500 nodes created - worst tet radius 1.37457 (nodes removed 0 0)\n",
      "Info    : It. 10000 - 10000 nodes created - worst tet radius 1.35163 (nodes removed 0 0)\n",
      "Info    : It. 10500 - 10500 nodes created - worst tet radius 1.33172 (nodes removed 0 0)\n",
      "Info    : It. 11000 - 11000 nodes created - worst tet radius 1.31329 (nodes removed 0 0)\n",
      "Info    : It. 11500 - 11500 nodes created - worst tet radius 1.29313 (nodes removed 0 0)\n",
      "Info    : It. 12000 - 12000 nodes created - worst tet radius 1.27766 (nodes removed 0 0)\n",
      "Info    : It. 12500 - 12500 nodes created - worst tet radius 1.2617 (nodes removed 0 0)\n",
      "Info    : It. 13000 - 13000 nodes created - worst tet radius 1.24569 (nodes removed 0 0)\n",
      "Info    : It. 13500 - 13500 nodes created - worst tet radius 1.23044 (nodes removed 0 0)\n",
      "Info    : It. 14000 - 14000 nodes created - worst tet radius 1.21541 (nodes removed 0 0)\n",
      "Info    : It. 14500 - 14500 nodes created - worst tet radius 1.20233 (nodes removed 0 0)\n",
      "Info    : It. 15000 - 15000 nodes created - worst tet radius 1.18953 (nodes removed 0 0)\n",
      "Info    : It. 15500 - 15500 nodes created - worst tet radius 1.17784 (nodes removed 0 0)\n",
      "Info    : It. 16000 - 16000 nodes created - worst tet radius 1.16523 (nodes removed 0 0)\n",
      "Info    : It. 16500 - 16500 nodes created - worst tet radius 1.15364 (nodes removed 0 0)\n",
      "Info    : It. 17000 - 17000 nodes created - worst tet radius 1.1428 (nodes removed 0 0)\n",
      "Info    : It. 17500 - 17500 nodes created - worst tet radius 1.20417 (nodes removed 0 0)\n",
      "Info    : It. 18000 - 18000 nodes created - worst tet radius 1.12294 (nodes removed 0 0)\n",
      "Info    : It. 18500 - 18500 nodes created - worst tet radius 1.11302 (nodes removed 0 0)\n",
      "Info    : It. 19000 - 19000 nodes created - worst tet radius 1.10358 (nodes removed 0 0)\n",
      "Info    : It. 19500 - 19500 nodes created - worst tet radius 1.09469 (nodes removed 0 0)\n",
      "Info    : It. 20000 - 20000 nodes created - worst tet radius 1.08559 (nodes removed 0 0)\n",
      "Info    : It. 20500 - 20500 nodes created - worst tet radius 1.07671 (nodes removed 0 0)\n",
      "Info    : It. 21000 - 21000 nodes created - worst tet radius 1.06909 (nodes removed 0 0)\n",
      "Info    : It. 21500 - 21500 nodes created - worst tet radius 1.10706 (nodes removed 0 0)\n",
      "Info    : It. 22000 - 22000 nodes created - worst tet radius 1.45661 (nodes removed 0 0)\n",
      "Info    : It. 22500 - 22500 nodes created - worst tet radius 1.04658 (nodes removed 0 0)\n",
      "Info    : It. 23000 - 23000 nodes created - worst tet radius 1.03913 (nodes removed 0 0)\n",
      "Info    : It. 23500 - 23500 nodes created - worst tet radius 1.15836 (nodes removed 0 0)\n",
      "Info    : It. 24000 - 24000 nodes created - worst tet radius 1.02505 (nodes removed 0 0)\n",
      "Info    : It. 24500 - 24500 nodes created - worst tet radius 1.01769 (nodes removed 0 0)\n",
      "Info    : It. 25000 - 25000 nodes created - worst tet radius 1.01157 (nodes removed 0 0)\n",
      "Info    : It. 25500 - 25500 nodes created - worst tet radius 1.00538 (nodes removed 0 0)\n",
      "Info    : 3D refinement terminated (36163 nodes total):\n",
      "Info    :  - 1 Delaunay cavities modified for star shapeness\n",
      "Info    :  - 0 nodes could not be inserted\n",
      "Info    :  - 196217 tetrahedra created in 2.98082 sec. (65826 tets/s)\n",
      "Info    : Done meshing 3D (Wall 4.52461s, CPU 4.48756s)\n",
      "Info    : Optimizing mesh...\n",
      "Info    : Optimizing volume 1\n",
      "Info    : Optimization starts (volume = 0.417034) with worst = 0.00816007 / average = 0.764313:\n",
      "Info    : 0.00 < quality < 0.10 :       399 elements\n",
      "Info    : 0.10 < quality < 0.20 :      1326 elements\n",
      "Info    : 0.20 < quality < 0.30 :      2455 elements\n",
      "Info    : 0.30 < quality < 0.40 :      4226 elements\n",
      "Info    : 0.40 < quality < 0.50 :      6978 elements\n",
      "Info    : 0.50 < quality < 0.60 :     11930 elements\n",
      "Info    : 0.60 < quality < 0.70 :     22650 elements\n",
      "Info    : 0.70 < quality < 0.80 :     45229 elements\n",
      "Info    : 0.80 < quality < 0.90 :     66872 elements\n",
      "Info    : 0.90 < quality < 1.00 :     34152 elements\n",
      "Info    : 4047 edge swaps, 186 node relocations (volume = 0.417034): worst = 0.125731 / average = 0.776453 (Wall 0.178015s, CPU 0.178455s)\n",
      "Info    : 4088 edge swaps, 194 node relocations (volume = 0.417034): worst = 0.229779 / average = 0.776546 (Wall 0.247992s, CPU 0.249538s)\n",
      "Info    : 4090 edge swaps, 196 node relocations (volume = 0.417034): worst = 0.229779 / average = 0.776535 (Wall 0.311404s, CPU 0.31345s)\n",
      "Info    : No ill-shaped tets in the mesh :-)\n",
      "Info    : 0.00 < quality < 0.10 :         0 elements\n",
      "Info    : 0.10 < quality < 0.20 :         0 elements\n",
      "Info    : 0.20 < quality < 0.30 :        11 elements\n",
      "Info    : 0.30 < quality < 0.40 :      4238 elements\n",
      "Info    : 0.40 < quality < 0.50 :      6914 elements\n",
      "Info    : 0.50 < quality < 0.60 :     11807 elements\n",
      "Info    : 0.60 < quality < 0.70 :     22692 elements\n",
      "Info    : 0.70 < quality < 0.80 :     45768 elements\n",
      "Info    : 0.80 < quality < 0.90 :     67308 elements\n",
      "Info    : 0.90 < quality < 1.00 :     33935 elements\n",
      "Info    : Done optimizing mesh (Wall 0.753882s, CPU 0.733078s)\n",
      "Info    : 36163 nodes 213662 elements\n"
     ]
    }
   ],
   "source": [
    "gmsh.model.occ.synchronize()\n",
    "gmsh.model.mesh.generate(3)"
   ]
  },
  {
   "cell_type": "markdown",
   "metadata": {},
   "source": [
    "We can write the mesh to msh to be visualized with gmsh with the following command"
   ]
  },
  {
   "cell_type": "code",
   "execution_count": 13,
   "metadata": {},
   "outputs": [
    {
     "name": "stdout",
     "output_type": "stream",
     "text": [
      "Info    : Writing 'mesh3D.msh'...\n",
      "Info    : Done writing 'mesh3D.msh'\n"
     ]
    }
   ],
   "source": [
    "gmsh.write(\"mesh3D.msh\")"
   ]
  },
  {
   "cell_type": "markdown",
   "metadata": {},
   "source": [
    "The mesh can be visualized in the GMSH GUI. The figure above visualized the marked facets of the 3D geometry.\n",
    "\n",
    "![Facets of the 3D mesh visualized in GMSH](../assets/img/tutorial_gmsh.png)"
   ]
  },
  {
   "cell_type": "markdown",
   "metadata": {},
   "source": [
    "In the next tutorials, we will learn two diffferent methods of loading this mesh into [DOLFINx](https://github.com/FEniCS/dolfinx/)"
   ]
  },
  {
   "cell_type": "markdown",
   "metadata": {},
   "source": [
    "## <a name=\"second\"></a> 2. How to load this mesh into DOLFINx without IO\n",
    "In his tutorial, we will go through the steps of how to load the gmsh geometry above into DOLFINx, without using an\n",
    "intermediate file for storing mesh data."
   ]
  },
  {
   "cell_type": "markdown",
   "metadata": {},
   "source": [
    "### Short tutorial\n",
    "We use the utility functions from `dolfinx.io.gmshio` to read data directly from the GMSH model. In this tutorial, we have been running gmsh on all processes activated with [MPI](https://mpi4py.readthedocs.io/en/stable/intro.html#what-is-mpi).\n",
    "However, this means that there is a gmsh mesh on each process. In DOLFINx, we would like to distribute this mesh over the active processes."
   ]
  },
  {
   "cell_type": "code",
   "execution_count": 14,
   "metadata": {},
   "outputs": [],
   "source": [
    "from dolfinx.io.gmshio import model_to_mesh\n",
    "from mpi4py import MPI\n",
    "model_rank = 0\n",
    "mesh, cell_tags, facet_tags = model_to_mesh(gmsh.model, MPI.COMM_WORLD, model_rank)"
   ]
  },
  {
   "cell_type": "markdown",
   "metadata": {},
   "source": [
    "This function creates a mesh on processor 0 with GMSH and distributes the mesh data in a `dolfinx.Mesh` for parallel usage. The flags `cell_data` and `facet_data` are booleans that indicates that you would like to extract cell and facet markers from the gmsh model. The last flag `gdim` indicates the geometrical dimension of your mesh, and should be set to `2` if you want to have a 2D geometry.\n",
    "### Long tutorial\n",
    "If you want to learn what the `model_to_mesh` function is actually doing (excluding MPI communication for distributing the mesh), the rest of this section will go through it step by step.\n",
    "We start by using some convenience functions from dolfin-x to extract the mesh geometry (the nodes of the mesh) and the mesh topology (the cell connectivities) for the mesh."
   ]
  },
  {
   "cell_type": "code",
   "execution_count": 15,
   "metadata": {},
   "outputs": [],
   "source": [
    "from dolfinx.io import gmshio\n",
    "x = gmshio.extract_geometry(gmsh.model)\n",
    "topologies = gmshio.extract_topology_and_markers(gmsh.model)"
   ]
  },
  {
   "cell_type": "markdown",
   "metadata": {},
   "source": [
    "The mesh geometry is a (number of points, 3) array of all the coordinates of the nodes in the mesh. The topologies is a dictionary, where the key is the unique [GMSH cell identifier](http://gmsh.info//doc/texinfo/gmsh.html#MSH-file-format). For each cell type, there is a sub-dictionary containing the mesh topology, an array (number_of_cells, number_of_nodes_per_cell) array containing an integer referring to a row (coordinate) in the mesh geometry, and a 1D array (cell_data) with mesh markers for each cell in the topology.\n",
    "\n",
    "As an MSH-file can contain meshes for multiple topological dimensions (0=vertices, 1=lines, 2=surfaces, 3=volumes), we have to determine which of the cells has to highest topological dimension. We do this with the following snippet"
   ]
  },
  {
   "cell_type": "code",
   "execution_count": 16,
   "metadata": {},
   "outputs": [],
   "source": [
    "import numpy\n",
    "\n",
    "# Get information about each cell type from the msh files\n",
    "num_cell_types = len(topologies.keys())\n",
    "cell_information = {}\n",
    "cell_dimensions = numpy.zeros(num_cell_types, dtype=numpy.int32)\n",
    "for i, element in enumerate(topologies.keys()):\n",
    "    properties = gmsh.model.mesh.getElementProperties(element)\n",
    "    name, dim, order, num_nodes, local_coords, _ = properties\n",
    "    cell_information[i] = {\"id\": element, \"dim\": dim,\n",
    "                           \"num_nodes\": num_nodes}\n",
    "    cell_dimensions[i] = dim\n",
    "gmsh.finalize()\n",
    "\n",
    "# Sort elements by ascending dimension\n",
    "perm_sort = numpy.argsort(cell_dimensions)"
   ]
  },
  {
   "cell_type": "markdown",
   "metadata": {},
   "source": [
    "We extract the topology of the cell with the highest topological dimension from `topologies`, and create the corresponding `ufl.domain.Mesh` for the given celltype"
   ]
  },
  {
   "cell_type": "code",
   "execution_count": 17,
   "metadata": {},
   "outputs": [],
   "source": [
    "cell_id = cell_information[perm_sort[-1]][\"id\"]\n",
    "cells = numpy.asarray(topologies[cell_id][\"topology\"], dtype=numpy.int64)\n",
    "ufl_domain = gmshio.ufl_mesh(cell_id, 3)"
   ]
  },
  {
   "cell_type": "markdown",
   "metadata": {},
   "source": [
    "As the GMSH model has the cell topology ordered as specified in the  [MSH format](http://gmsh.info//doc/texinfo/gmsh.html#Node-ordering),\n",
    "we have to permute the topology to the [FIAT format](https://github.com/FEniCS/dolfinx/blob/e7f0a504e6ff538ad9992d8be73f74f53b630d11/cpp/dolfinx/io/cells.h#L16-L77). The permuation is done using the `perm_gmsh` function from dolfin-X."
   ]
  },
  {
   "cell_type": "code",
   "execution_count": 18,
   "metadata": {},
   "outputs": [],
   "source": [
    "from dolfinx.cpp.io import perm_gmsh\n",
    "from dolfinx.cpp.mesh import to_type"
   ]
  },
  {
   "cell_type": "code",
   "execution_count": 19,
   "metadata": {},
   "outputs": [],
   "source": [
    "num_nodes = cell_information[perm_sort[-1]][\"num_nodes\"]\n",
    "gmsh_cell_perm = perm_gmsh(to_type(str(ufl_domain.ufl_cell())), num_nodes)\n",
    "cells = cells[:, gmsh_cell_perm]"
   ]
  },
  {
   "cell_type": "markdown",
   "metadata": {},
   "source": [
    "The final step is to create the mesh from the topology and geometry (one mesh on each process)."
   ]
  },
  {
   "cell_type": "code",
   "execution_count": 20,
   "metadata": {},
   "outputs": [],
   "source": [
    "from dolfinx.mesh import create_mesh\n",
    "from mpi4py import MPI\n",
    "mesh = create_mesh(MPI.COMM_SELF, cells, x, ufl_domain)"
   ]
  },
  {
   "cell_type": "markdown",
   "metadata": {},
   "source": [
    "As the meshes can contain markers for the cells or any sub entity, the next snippets show how to extract this info to GMSH into `dolfinx.MeshTags`."
   ]
  },
  {
   "cell_type": "code",
   "execution_count": 21,
   "metadata": {},
   "outputs": [],
   "source": [
    "from dolfinx.cpp.graph import AdjacencyList_int32\n",
    "from dolfinx.cpp.io import distribute_entity_data\n",
    "from dolfinx.cpp.mesh import cell_entity_type, create_meshtags\n",
    "\n",
    "# Create MeshTags for cell data\n",
    "cell_values = numpy.asarray(topologies[cell_id][\"cell_data\"], dtype=numpy.int32)\n",
    "local_entities, local_values = distribute_entity_data(mesh, mesh.topology.dim, cells, cell_values)\n",
    "mesh.topology.create_connectivity(mesh.topology.dim, 0)\n",
    "adj = AdjacencyList_int32(local_entities)\n",
    "ct = create_meshtags(mesh, mesh.topology.dim, adj, local_values)\n",
    "ct.name = \"Cell tags\"\n",
    "\n",
    "# Create MeshTags for facets\n",
    "# Permute facets from MSH to DOLFINx ordering\n",
    "# FIXME: This does not work for prism meshes\n",
    "facet_type = cell_entity_type(to_type(str(ufl_domain.ufl_cell())), mesh.topology.dim - 1, 0)\n",
    "gmsh_facet_id = cell_information[perm_sort[-2]][\"id\"]\n",
    "num_facet_nodes = cell_information[perm_sort[-2]][\"num_nodes\"]\n",
    "gmsh_facet_perm = perm_gmsh(facet_type, num_facet_nodes)\n",
    "marked_facets = numpy.asarray(topologies[gmsh_facet_id][\"topology\"], dtype=numpy.int64)\n",
    "facet_values = numpy.asarray(topologies[gmsh_facet_id][\"cell_data\"], dtype=numpy.int32)\n",
    "marked_facets = marked_facets[:, gmsh_facet_perm]\n",
    "local_entities, local_values = distribute_entity_data(mesh, mesh.topology.dim - 1, marked_facets, facet_values)\n",
    "mesh.topology.create_connectivity(mesh.topology.dim - 1, mesh.topology.dim)\n",
    "adj = AdjacencyList_int32(local_entities)\n",
    "ft = create_meshtags(mesh, mesh.topology.dim - 1, adj, local_values)\n",
    "ft.name = \"Facet tags\"\n",
    "\n",
    "# Output DOLFINx meshes to file\n",
    "from dolfinx.io import XDMFFile\n",
    "\n",
    "with XDMFFile(MPI.COMM_WORLD, \"mesh_out.xdmf\", \"w\") as xdmf:\n",
    "    xdmf.write_mesh(mesh)\n",
    "    xdmf.write_meshtags(ft)\n",
    "    xdmf.write_meshtags(ct)"
   ]
  },
  {
   "cell_type": "markdown",
   "metadata": {},
   "source": [
    "## <a name=\"third\"></a> 3. How to load msh files into DOLFINx\n",
    "In the previous tutorial, we learnt how to load a gmsh python model into dolfin-X. In this section, we will learn how to load an \"msh\" file into DOLFINx.\n",
    "We will do this by using the convenience function `gmshio.read_from_msh`"
   ]
  },
  {
   "cell_type": "code",
   "execution_count": 22,
   "metadata": {},
   "outputs": [
    {
     "name": "stdout",
     "output_type": "stream",
     "text": [
      "Info    : Reading 'mesh3D.msh'...\n",
      "Info    : 33 entities\n",
      "Info    : 36163 nodes\n",
      "Info    : 213116 elements\n",
      "Info    : Done reading 'mesh3D.msh'                                        \n"
     ]
    }
   ],
   "source": [
    "mesh, cell_tags, facet_tags = gmshio.read_from_msh(\"mesh3D.msh\", MPI.COMM_WORLD, 0, gdim=3)"
   ]
  },
  {
   "cell_type": "markdown",
   "metadata": {},
   "source": [
    "What this function does, is that it uses the `gmsh.merge` command to create a gmsh model of the msh file and then in turn calls the `gmsh_model_to_mesh` function.\n",
    "The `read_from_msh` function also handles MPI communication and gmsh initialization/finalization."
   ]
  },
  {
   "cell_type": "code",
   "execution_count": 23,
   "metadata": {},
   "outputs": [
    {
     "name": "stdout",
     "output_type": "stream",
     "text": [
      "Info    : Reading 'mesh3D.msh'...\n",
      "Info    : 33 entities\n",
      "Info    : 36163 nodes\n",
      "Info    : 213116 elements\n",
      "Info    : Done reading 'mesh3D.msh'                                        \n"
     ]
    }
   ],
   "source": [
    "gmsh.initialize()\n",
    "if MPI.COMM_WORLD.rank == 0:\n",
    "    gmsh.model.add(\"Mesh from file\")\n",
    "    gmsh.merge(\"mesh3D.msh\")\n",
    "output = gmshio.model_to_mesh(gmsh.model,MPI.COMM_WORLD, 0, gdim=3)\n",
    "gmsh.finalize()"
   ]
  },
  {
   "cell_type": "code",
   "execution_count": null,
   "metadata": {},
   "outputs": [],
   "source": []
  }
 ],
 "metadata": {
  "jupytext": {
   "formats": "ipynb,md,py:light"
  },
  "kernelspec": {
   "display_name": "Python 3 (ipykernel)",
   "language": "python",
   "name": "python3"
  },
  "language_info": {
   "codemirror_mode": {
    "name": "ipython",
    "version": 3
   },
   "file_extension": ".py",
   "mimetype": "text/x-python",
   "name": "python",
   "nbconvert_exporter": "python",
   "pygments_lexer": "ipython3",
   "version": "3.10.4"
  }
 },
 "nbformat": 4,
 "nbformat_minor": 4
}
