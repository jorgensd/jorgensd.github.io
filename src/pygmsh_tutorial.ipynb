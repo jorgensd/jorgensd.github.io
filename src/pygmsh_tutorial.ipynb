{
 "cells": [
  {
   "cell_type": "markdown",
   "id": "cf07334c-1f03-40f2-80ce-ce72fb300d4e",
   "metadata": {},
   "source": [
    "# Mesh generation and conversion with GMSH and PYGMSH"
   ]
  },
  {
   "cell_type": "markdown",
   "id": "bbc32383-0168-49a7-958c-c776f395cddc",
   "metadata": {},
   "source": [
    "In this tutorial, you will learn:\n",
    "1. [How to create a mesh with mesh markers in pygmsh](#first)\n",
    "2. [How to convert your mesh to XDMF](#second)\n",
    "3. [How to create 3D meshes with pygmsh](#third)\n",
    "\n",
    "This tutorial can be downloaded as a [Python-file](pygmsh_tutorial.py) or as a [Jupyter notebook](pygmsh_tutorial.ipynb)\n",
    "\n",
    "Prerequisites for this tutorial is to install [pygmsh](https://pypi.org/project/pygmsh), [meshio](https://pypi.org/project/meshio) and [gmsh](https://gmsh.info/bin/Linux/gmsh-4.10.3-Linux64.tgz). All of these dependencies can be found in the docker image\n",
    "`dokken92/pygmsh`, which can be ran on any computer with docker using \n",
    "\n",
    "```bash\n",
    "docker run -v $(pwd):/root/shared -ti -w \"/root/shared\" --rm dokken92/pygmsh\n",
    "```\n",
    "\n",
    "## <a name=\"first\"></a> 1. How to create a mesh with pygmsh\n",
    "In this tutorial, we will learn how to create a channel with a circular obstacle, as used in the [DFG-2D 2 Turek benchmark](http://www.featflow.de/en/benchmarks/cfdbenchmarking/flow/dfg_benchmark2_re100.html).\n",
    "\n",
    "To do this, we use pygmsh.\n",
    "First we create an empty geometry and the circular obstacle:"
   ]
  },
  {
   "cell_type": "code",
   "execution_count": 1,
   "id": "72970c57-b0fc-4344-87f9-5416578dbce3",
   "metadata": {},
   "outputs": [],
   "source": [
    "import pygmsh\n",
    "resolution = 0.01\n",
    "# Channel parameters\n",
    "L = 2.2\n",
    "H = 0.41\n",
    "c = [0.2, 0.2, 0]\n",
    "r = 0.05\n",
    "\n",
    "# Initialize empty geometry using the build in kernel in GMSH\n",
    "geometry = pygmsh.geo.Geometry()\n",
    "# Fetch model we would like to add data to\n",
    "model = geometry.__enter__()\n",
    "# Add circle\n",
    "circle = model.add_circle(c, r, mesh_size=resolution)"
   ]
  },
  {
   "cell_type": "markdown",
   "id": "fffe191e-f2a7-41d2-86ca-51a8a69df35a",
   "metadata": {},
   "source": [
    "The next step is to create the channel with the circle as a hole."
   ]
  },
  {
   "cell_type": "code",
   "execution_count": 2,
   "id": "575fe497-e18b-4499-8341-1475d3b6da28",
   "metadata": {},
   "outputs": [],
   "source": [
    "# Add points with finer resolution on left side\n",
    "points = [model.add_point((0, 0, 0), mesh_size=resolution),\n",
    "          model.add_point((L, 0, 0), mesh_size=5*resolution),\n",
    "          model.add_point((L, H, 0), mesh_size=5*resolution),\n",
    "          model.add_point((0, H, 0), mesh_size=resolution)]\n",
    "\n",
    "# Add lines between all points creating the rectangle\n",
    "channel_lines = [model.add_line(points[i], points[i+1])\n",
    "                 for i in range(-1, len(points)-1)]\n",
    "\n",
    "# Create a line loop and plane surface for meshing\n",
    "channel_loop = model.add_curve_loop(channel_lines)\n",
    "plane_surface = model.add_plane_surface(\n",
    "    channel_loop, holes=[circle.curve_loop])\n",
    "\n",
    "# Call gmsh kernel before add physical entities\n",
    "model.synchronize()"
   ]
  },
  {
   "cell_type": "markdown",
   "id": "30c7b8de-aa9a-4aad-9b6e-0ab9becca68d",
   "metadata": {},
   "source": [
    "The final step before mesh generation is to mark the different boundaries and the volume mesh. Note that with pygmsh, boundaries with the same tag has to be added simultaneously. In this example this means that we have to add the top and \n",
    " bottom wall in one function call. "
   ]
  },
  {
   "cell_type": "code",
   "execution_count": 3,
   "id": "5f57f48b-582c-4550-ad72-f91c398e349c",
   "metadata": {},
   "outputs": [],
   "source": [
    "volume_marker = 6\n",
    "model.add_physical([plane_surface], \"Volume\")\n",
    "model.add_physical([channel_lines[0]], \"Inflow\")\n",
    "model.add_physical([channel_lines[2]], \"Outflow\")\n",
    "model.add_physical([channel_lines[1], channel_lines[3]], \"Walls\")\n",
    "model.add_physical(circle.curve_loop.curves, \"Obstacle\")"
   ]
  },
  {
   "cell_type": "markdown",
   "id": "8a48932f-c2f2-42e6-ba70-26fd2d2f3ae5",
   "metadata": {},
   "source": [
    "We generate the mesh using the pygmsh function `generate_mesh`. Generate mesh returns a `meshio.Mesh`. However, this mesh is tricky to extract physical tags from. Therefore we write the mesh to file using the `gmsh.write` function."
   ]
  },
  {
   "cell_type": "code",
   "execution_count": 4,
   "id": "d17656cb-6418-4fc8-bc58-1fc9cb3ba947",
   "metadata": {},
   "outputs": [],
   "source": [
    "geometry.generate_mesh(dim=2)\n",
    "import gmsh\n",
    "gmsh.write(\"mesh.msh\")\n",
    "gmsh.clear()\n",
    "geometry.__exit__()"
   ]
  },
  {
   "cell_type": "markdown",
   "id": "e8bafdbf-32ff-4c3e-b5fb-54576381379d",
   "metadata": {},
   "source": [
    "## <a name=\"second\"></a>2. How to convert your mesh to XDM\n",
    "Now that we have save the mesh to a `msh` file, we would like to convert it to a format that interfaces with DOLFIN and DOLFINx. \n",
    "For this I suggest using the `XDMF`-format as it supports parallel IO."
   ]
  },
  {
   "cell_type": "code",
   "execution_count": 5,
   "id": "8017679c-68e8-4e4c-88d8-3e04412d4250",
   "metadata": {},
   "outputs": [
    {
     "name": "stdout",
     "output_type": "stream",
     "text": [
      "\n"
     ]
    }
   ],
   "source": [
    "import meshio\n",
    "mesh_from_file = meshio.read(\"mesh.msh\")"
   ]
  },
  {
   "cell_type": "markdown",
   "id": "df5e177b-6ea3-48d5-b124-cb2670da46bb",
   "metadata": {},
   "source": [
    "Now that we have loaded the mesh, we need to extract the cells and physical data. We need to create a separate file for the facets (lines), which we will use when we define boundary conditions in DOLFIN/DOLFINx. We do this with the following convenience function. Note that as we would like a 2 dimensional mesh, we need to remove the z-values in the mesh coordinates."
   ]
  },
  {
   "cell_type": "code",
   "execution_count": 6,
   "id": "93ec5192-147d-44e1-a3c0-27bcfdbacc7e",
   "metadata": {},
   "outputs": [],
   "source": [
    "import numpy\n",
    "def create_mesh(mesh, cell_type, prune_z=False):\n",
    "    cells = mesh.get_cells_type(cell_type)\n",
    "    cell_data = mesh.get_cell_data(\"gmsh:physical\", cell_type)\n",
    "    points = mesh.points[:,:2] if prune_z else mesh.points\n",
    "    out_mesh = meshio.Mesh(points=points, cells={cell_type: cells}, cell_data={\"name_to_read\":[cell_data]})\n",
    "    return out_mesh"
   ]
  },
  {
   "cell_type": "markdown",
   "id": "f895c64c-0786-4d0c-9684-201d96fa4a16",
   "metadata": {},
   "source": [
    "With this function at hand, we can save the meshes to `XDMF`."
   ]
  },
  {
   "cell_type": "code",
   "execution_count": 7,
   "id": "95a9a7f9-3c81-4123-8610-d877e3750fe1",
   "metadata": {},
   "outputs": [],
   "source": [
    "line_mesh = create_mesh(mesh_from_file, \"line\", prune_z=True)\n",
    "meshio.write(\"facet_mesh.xdmf\", line_mesh)\n",
    "\n",
    "triangle_mesh = create_mesh(mesh_from_file, \"triangle\", prune_z=True)\n",
    "meshio.write(\"mesh.xdmf\", triangle_mesh)"
   ]
  },
  {
   "cell_type": "markdown",
   "id": "3fa77423-a02f-47ee-bf81-1c0484eb26aa",
   "metadata": {},
   "source": [
    "## <a name=\"third\"></a>3. How to create a 3D mesh using pygmsh\n",
    "To create more advanced meshes, such as 3D geometries, using the OpenCASCADE geometry kernel is recommended.\n",
    "We start by importing this kernel, and creating three objects:\n",
    "- A box $[0,0,0]\\times[1,1,1]$\n",
    "- A box $[0.5,0.0.5,1]\\times[1,1,2]$\n",
    "- A ball from $[0.5,0.5,0.5]$ with radius $0.25$."
   ]
  },
  {
   "cell_type": "code",
   "execution_count": 8,
   "id": "4aab04a1-855e-4db4-8d7d-7196eef1e49a",
   "metadata": {},
   "outputs": [],
   "source": [
    "# Clear previous model\n",
    "mesh_size = 0.1\n",
    "geom = pygmsh.occ.Geometry()\n",
    "model3D = geom.__enter__()\n",
    "box0 =  model3D.add_box([0.0, 0, 0], [1, 1, 1])\n",
    "box1 =  model3D.add_box([0.5, 0.5, 1], [0.5, 0.5, 1])\n",
    "ball = model3D.add_ball([0.5, 0.5, 0.5], 0.25)"
   ]
  },
  {
   "cell_type": "markdown",
   "id": "a5fce30e-f1aa-4ee5-a46c-ab1e46f5fb37",
   "metadata": {},
   "source": [
    "In this demo, we would like to make a mesh that is the union of these three objects. \n",
    "In addition, we would like the internal boundary of the sphere to be preserved in the final mesh.\n",
    "We will do this by using boolean operations. First we make a `boolean_union` of the two boxes (whose internal boundaries will not be preserved). Then, we use boolean fragments to perserve the outer boundary of the sphere."
   ]
  },
  {
   "cell_type": "code",
   "execution_count": 9,
   "id": "8336a42d-d7b9-4ff4-9cb2-f098715c1917",
   "metadata": {},
   "outputs": [],
   "source": [
    "union = model3D.boolean_union([box0, box1])\n",
    "union_minus_ball = model3D.boolean_fragments(union, ball)\n",
    "model3D.synchronize()"
   ]
  },
  {
   "cell_type": "markdown",
   "id": "fd1a705c-1d40-4808-9972-11f139c52963",
   "metadata": {},
   "source": [
    "To create physical markers for the two regions, we use the `add_physical` function. This function only works nicely if the domain whose boundary should be preserved (the sphere) is fully embedded in the other domain (the union of boxes). For more complex operations, it is recommened to do the tagging of entities in the gmsh GUI, as explained in the [GMSH tutorial](tutorial_gmsh.md)."
   ]
  },
  {
   "cell_type": "code",
   "execution_count": 10,
   "id": "0138da6e-9b58-49e0-8485-cf3030fa05a3",
   "metadata": {},
   "outputs": [],
   "source": [
    "model3D.add_physical(union, \"Union\")\n",
    "model3D.add_physical(union_minus_ball, \"Union minus ball\")"
   ]
  },
  {
   "cell_type": "markdown",
   "id": "16fcf5bd-07c2-46ef-9666-bf74fb2582d9",
   "metadata": {},
   "source": [
    "We finally generate the 3D mesh, and save both the geo and  msh file as in the previous example."
   ]
  },
  {
   "cell_type": "code",
   "execution_count": 11,
   "id": "3acac61d-c217-4eca-9cc1-7b81c2152c41",
   "metadata": {},
   "outputs": [],
   "source": [
    "geom.generate_mesh(dim=3)\n",
    "gmsh.write(\"mesh3D.msh\")\n",
    "model3D.__exit__()"
   ]
  },
  {
   "cell_type": "markdown",
   "id": "3b63723f-2dfe-499e-bc5b-5d574190e81f",
   "metadata": {},
   "source": [
    "These XDMF-files  can be visualized in Paraview and looks like\n",
    "\n",
    "![The 2D mesh and the corresponding facet data visualized in Paraview](../assets/img/mesh2D.png)\n",
    "\n",
    "We use the same strategy for the 3D mesh as the 2D mesh."
   ]
  },
  {
   "cell_type": "code",
   "execution_count": null,
   "id": "9bbf0c9d-f82c-4911-a2c6-5cedbfedd50d",
   "metadata": {},
   "outputs": [],
   "source": []
  }
 ],
 "metadata": {
  "jupytext": {
   "formats": "ipynb,py:light,md"
  },
  "kernelspec": {
   "display_name": "Python 3 (ipykernel)",
   "language": "python",
   "name": "python3"
  },
  "language_info": {
   "codemirror_mode": {
    "name": "ipython",
    "version": 3
   },
   "file_extension": ".py",
   "mimetype": "text/x-python",
   "name": "python",
   "nbconvert_exporter": "python",
   "pygments_lexer": "ipython3",
   "version": "3.10.4"
  }
 },
 "nbformat": 4,
 "nbformat_minor": 5
}
